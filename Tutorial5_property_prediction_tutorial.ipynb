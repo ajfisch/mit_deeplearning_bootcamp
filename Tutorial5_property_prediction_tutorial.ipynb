{
  "cells": [
    {
      "cell_type": "markdown",
      "metadata": {
        "colab_type": "text",
        "id": "view-in-github"
      },
      "source": [
        "<a href=\"https://colab.research.google.com/github/pgmikhael/mit_deeplearning_bootcamp/blob/master/Tutorial5_property_prediction_tutorial.ipynb\" target=\"_parent\"><img src=\"https://colab.research.google.com/assets/colab-badge.svg\" alt=\"Open In Colab\"/></a>"
      ]
    },
    {
      "cell_type": "markdown",
      "metadata": {
        "colab_type": "text",
        "id": "GA8LLAO9dchw"
      },
      "source": [
        "# Molecular Property Prediction\n",
        "\n",
        "In this exercise, you'll implement a multi-layer perceptron (MPL), a recurrent neural network (RNN), and a convolutional neural network (CNN) to predict log p from SMILES strings.\n",
        "\n",
        "Let's get started!"
      ]
    },
    {
      "cell_type": "markdown",
      "metadata": {
        "colab_type": "text",
        "id": "kcCj4gBWdFeI"
      },
      "source": [
        "# Preliminaries\n",
        "\n",
        "The next few sections will set up the necessary components of the exercise, including:\n",
        "\n",
        "\n",
        "1.   Installing PyTorch\n",
        "2.   Importing dependencies\n",
        "3.   Downloading and processing data\n",
        "4.   Defining training and evaluation procedures\n",
        "\n"
      ]
    },
    {
      "cell_type": "markdown",
      "metadata": {
        "colab_type": "text",
        "id": "pg2T9UsXctbP"
      },
      "source": [
        "## Download PyTorch"
      ]
    },
    {
      "cell_type": "code",
      "execution_count": null,
      "metadata": {
        "colab": {},
        "colab_type": "code",
        "id": "eT_jLzv8do9z"
      },
      "outputs": [],
      "source": [
        "!curl -L bit.ly/rdkit-colab | tar xz -C /"
      ]
    },
    {
      "cell_type": "code",
      "execution_count": null,
      "metadata": {},
      "outputs": [],
      "source": [
        "import rdkit \n",
        "\n",
        "import torch\n",
        "print(f'Torch version = {torch.__version__}')\n",
        "print(f'Cuda available = {torch.cuda.is_available()}')\n",
        "print(f'Cuda version = {torch.version.cuda}')\n",
        "print(f'Cuda device = {torch.cuda.get_device_name(0)}')"
      ]
    },
    {
      "cell_type": "code",
      "execution_count": null,
      "metadata": {},
      "outputs": [],
      "source": [
        "\n",
        "import os\n",
        "os.environ['TORCH'] = torch.__version__\n",
        "print(torch.__version__)\n",
        "\n",
        "!pip install -q torch-scatter -f https://data.pyg.org/whl/torch-${TORCH}.html\n",
        "!pip install -q torch-sparse -f https://data.pyg.org/whl/torch-${TORCH}.html\n",
        "!pip install -q git+https://github.com/pyg-team/pytorch_geometric.git"
      ]
    },
    {
      "cell_type": "markdown",
      "metadata": {
        "colab_type": "text",
        "id": "h7uKFRTBczh9"
      },
      "source": [
        "## Imports"
      ]
    },
    {
      "cell_type": "code",
      "execution_count": null,
      "metadata": {
        "colab": {},
        "colab_type": "code",
        "id": "mcLJrU16dch0"
      },
      "outputs": [],
      "source": [
        "import argparse\n",
        "from collections import Counter\n",
        "import csv\n",
        "import pickle\n",
        "import re\n",
        "\n",
        "import math\n",
        "import numpy as np\n",
        "from sklearn.metrics import mean_squared_error\n",
        "import torch\n",
        "import torch.nn as nn\n",
        "import torch.nn.functional as F\n",
        "import torch.optim as optim\n",
        "from torch.utils.data import DataLoader, Dataset\n",
        "\n",
        "\n",
        "from torch_geometric.data import InMemoryDataset\n",
        "from torch_geometric.loader import DataLoader\n",
        "from torch_geometric.nn.conv.gatv2_conv import GATv2Conv\n",
        "from torch_scatter import scatter\n",
        "from torch_geometric.utils import from_smiles"
      ]
    },
    {
      "cell_type": "markdown",
      "metadata": {
        "colab_type": "text",
        "id": "v7mgPaxPc1vx"
      },
      "source": [
        "## Download and Process Data"
      ]
    },
    {
      "cell_type": "code",
      "execution_count": null,
      "metadata": {
        "colab": {},
        "colab_type": "code",
        "id": "DMJfz2f-JC9E"
      },
      "outputs": [],
      "source": [
        "!apt-get install wget\n",
        "!wget https://raw.githubusercontent.com/yala/introML_chem/master/lab1/data/chem/delaney_train.csv\n",
        "!wget https://raw.githubusercontent.com/yala/introML_chem/master/lab1/data/chem/delaney_val.csv\n",
        "!wget https://raw.githubusercontent.com/yala/introML_chem/master/lab1/data/chem/delaney_test.csv\n",
        "\n",
        "def get_data(split):\n",
        "    data_path = 'delaney_{}.csv'.format(split)\n",
        "    with open(data_path) as f:\n",
        "        data = csv.reader(f)\n",
        "    \n",
        "        # Skip header\n",
        "        next(data)\n",
        "        \n",
        "        # Get smiles and targets\n",
        "        smiles, Y = [], []\n",
        "        for row in data:\n",
        "            smiles.append(row[0])\n",
        "            Y.append(float(row[1]))\n",
        "    \n",
        "    return smiles, Y\n",
        "\n",
        "trainSmiles, trainY = get_data('train')\n",
        "devSmiles, devY = get_data('val')\n",
        "testSmiles, testY = get_data('test')\n",
        "\n",
        "allSmiles = trainSmiles + devSmiles + testSmiles\n",
        "\n",
        "print(f'Num Train = {len(trainSmiles):,}')\n",
        "print(f'Num Dev   = {len(devSmiles):,}')\n",
        "print(f'Num Test  = {len(testSmiles):,}')\n",
        "print()\n",
        "print(f'Example data point: smiles = {trainSmiles[0]}, logp = {trainY[0]}')"
      ]
    },
    {
      "cell_type": "markdown",
      "metadata": {
        "colab_type": "text",
        "id": "a_nrd1cJc_JM"
      },
      "source": [
        "## Dataset Class"
      ]
    },
    {
      "cell_type": "code",
      "execution_count": null,
      "metadata": {
        "colab": {},
        "colab_type": "code",
        "id": "4smEQXOddciA"
      },
      "outputs": [],
      "source": [
        "class PropertyPredictionDataset(Dataset):\n",
        "    def __init__(self, X, Y):\n",
        "      self.X, self.Y = torch.tensor(X), torch.tensor(Y)\n",
        "      assert len(X) == len(Y)\n",
        "\n",
        "    def __len__(self):\n",
        "       return len(self.X)\n",
        "\n",
        "    def __getitem__(self, i):\n",
        "      return self.X[i], self.Y[i]"
      ]
    },
    {
      "cell_type": "markdown",
      "metadata": {
        "colab_type": "text",
        "id": "M9hvStGzdcjC"
      },
      "source": [
        "## Model and Training Settings\n",
        "\n",
        "\n"
      ]
    },
    {
      "cell_type": "markdown",
      "metadata": {
        "colab_type": "text",
        "id": "HgiOSHSrGFCU"
      },
      "source": [
        "After building your MLP, RNN, and CNN below, return to this section and experiment with different values to see how they affect training and model performance."
      ]
    },
    {
      "cell_type": "code",
      "execution_count": null,
      "metadata": {
        "colab": {},
        "colab_type": "code",
        "id": "n3Ht1mhhdcjE"
      },
      "outputs": [],
      "source": [
        "batch_size = 64\n",
        "epochs = 10\n",
        "lr = 1e-3\n",
        "weight_decay = 1e-4\n",
        "max_len = 100\n",
        "embedding_size = 300\n",
        "hidden_size = 300\n",
        "output_size = 1  # do not modify\n",
        "dropout = 0.6\n",
        "use_cuda = True"
      ]
    },
    {
      "cell_type": "markdown",
      "metadata": {
        "colab_type": "text",
        "id": "eNLJoM1XPEz7"
      },
      "source": [
        "## Utility Functions"
      ]
    },
    {
      "cell_type": "code",
      "execution_count": null,
      "metadata": {
        "colab": {},
        "colab_type": "code",
        "id": "6Of3pYUgPE7R"
      },
      "outputs": [],
      "source": [
        "def param_count(model):\n",
        "    return sum(param.numel() for param in model.parameters() if param.requires_grad)\n",
        "  \n",
        "def rmse(targets, preds):\n",
        "    return math.sqrt(mean_squared_error(targets, preds))"
      ]
    },
    {
      "cell_type": "markdown",
      "metadata": {
        "colab_type": "text",
        "id": "Gz35WFTOPDFo"
      },
      "source": [
        "## Training Procedure"
      ]
    },
    {
      "cell_type": "code",
      "execution_count": null,
      "metadata": {
        "colab": {},
        "colab_type": "code",
        "id": "wxIj0eWsdcjJ"
      },
      "outputs": [],
      "source": [
        "def train_epoch(model, train_loader, optimizer, epoch):\n",
        "    model.train()  # Set the nn.Module to train mode. \n",
        "    total_loss = 0\n",
        "    total_rmse = 0\n",
        "    num_samples = len(train_loader.dataset)\n",
        "    num_batches = 0\n",
        "    for batch_idx, (data, target) in enumerate(train_loader):  # 1) get batch\n",
        "        # Adjust dimensions of target and cast to float\n",
        "        target = target.unsqueeze(1).float()\n",
        "      \n",
        "        # Move to cuda\n",
        "        if next(model.parameters()).is_cuda:\n",
        "            data, target = data.cuda(), target.cuda()\n",
        "      \n",
        "        # Reset gradient data to 0\n",
        "        optimizer.zero_grad()\n",
        "        \n",
        "        # Get prediction for batch\n",
        "        output = model(data)\n",
        "        \n",
        "        # 2) Compute loss\n",
        "        loss = F.mse_loss(output, target)\n",
        "        \n",
        "        # 3) Do backprop\n",
        "        loss.backward()\n",
        "        \n",
        "        # 4) Update model\n",
        "        optimizer.step()\n",
        "        \n",
        "        # Do book-keeping to track rmse and avg loss\n",
        "        total_loss += loss.detach()  # Don't keep computation graph \n",
        "        total_rmse += rmse(target.cpu().data.numpy(), output.cpu().data.numpy())\n",
        "        num_batches += 1\n",
        "\n",
        "    print(f'Train Epoch: {epoch} '\n",
        "          f'Loss: {total_loss / num_samples:.4f}, '\n",
        "          f'RMSE: {total_rmse / num_batches:.4f}')"
      ]
    },
    {
      "cell_type": "markdown",
      "metadata": {
        "colab_type": "text",
        "id": "xGZnlI58dcjN"
      },
      "source": [
        "## Evaluation Procedure"
      ]
    },
    {
      "cell_type": "code",
      "execution_count": null,
      "metadata": {
        "colab": {},
        "colab_type": "code",
        "id": "GPzqSuY3dcjO"
      },
      "outputs": [],
      "source": [
        "def eval_epoch(model, test_loader, name):\n",
        "    model.eval()\n",
        "    test_loss = 0\n",
        "    test_rmse = 0\n",
        "    num_batches = 0\n",
        "    for data, target in test_loader:\n",
        "        target = target.unsqueeze(1).float()\n",
        "      \n",
        "        # Move to cuda\n",
        "        if next(model.parameters()).is_cuda:\n",
        "            data, target = data.cuda(), target.cuda()\n",
        "        \n",
        "        output = model(data)\n",
        "        \n",
        "        test_loss += F.mse_loss(output, target).item()  # sum up batch loss\n",
        "        test_rmse += rmse(target.cpu().data.numpy(), output.cpu().data.numpy())\n",
        "        num_batches += 1\n",
        "\n",
        "    test_loss /= len(test_loader.dataset)\n",
        "    test_rmse /= num_batches\n",
        "    print(f'\\n{name} set: '\n",
        "          f'Average loss: {test_loss:.4f}, '\n",
        "          f'RMSE: {test_rmse:.4f}')"
      ]
    },
    {
      "cell_type": "markdown",
      "metadata": {
        "colab_type": "text",
        "id": "6juQj-48uY5-"
      },
      "source": [
        "# Character Embeddings for SMILES\n",
        "\n",
        "In the tutorial, we used word embeddings to encode each word in a sentence. Since a molecule's SMILES string is just a single \"word\" (i.e. a single sequence of characters), we'll instead use character embeddings, one for each character in the SMILES string. The embeddings will operate in essentially the same way as word embeddings."
      ]
    },
    {
      "cell_type": "markdown",
      "metadata": {
        "colab_type": "text",
        "id": "jUt7IN02RJvc"
      },
      "source": [
        "## Define Vocab and Character-to-Index Mapping"
      ]
    },
    {
      "cell_type": "code",
      "execution_count": null,
      "metadata": {
        "colab": {},
        "colab_type": "code",
        "id": "BT93tF8iL1hr"
      },
      "outputs": [],
      "source": [
        "# Define vocab\n",
        "vocab = {char for smiles in allSmiles for char in smiles}\n",
        "\n",
        "print(f'Vocab = {vocab}')\n",
        "\n",
        "# Create word to index mapping\n",
        "padding_idx = 0\n",
        "char_to_index = {char: index + 1 for index, char in enumerate(vocab)}\n",
        "vocab_size = len(char_to_index) + 1\n",
        "\n",
        "print(f'Vocab size = {vocab_size:,}')"
      ]
    },
    {
      "cell_type": "markdown",
      "metadata": {
        "colab_type": "text",
        "id": "oDCNl7nKRHjt"
      },
      "source": [
        "## Map Characters to Indices"
      ]
    },
    {
      "cell_type": "code",
      "execution_count": null,
      "metadata": {
        "colab": {},
        "colab_type": "code",
        "id": "TEgwodfayJfn"
      },
      "outputs": [],
      "source": [
        "trainX = [[char_to_index[char] for char in smiles] for smiles in trainSmiles]\n",
        "devX =   [[char_to_index[char] for char in smiles] for smiles in devSmiles]\n",
        "testX =  [[char_to_index[char] for char in smiles] for smiles in testSmiles]\n",
        "\n",
        "print(f'Indices of first train SMILES = {trainX[0]}')\n",
        "print(f'Last five indices = {trainX[0][-5:]}')"
      ]
    },
    {
      "cell_type": "markdown",
      "metadata": {
        "colab_type": "text",
        "id": "i_OPFDOzQ8eX"
      },
      "source": [
        "## Add Padding"
      ]
    },
    {
      "cell_type": "markdown",
      "metadata": {
        "colab_type": "text",
        "id": "vMbCHXPavmyI"
      },
      "source": [
        "Note: Since some SMILES are long, we've hard coded a maximum sentence length `max_len` in the Model and Training Settings section above."
      ]
    },
    {
      "cell_type": "code",
      "execution_count": null,
      "metadata": {
        "colab": {},
        "colab_type": "code",
        "id": "S1K4Hg5DyimQ"
      },
      "outputs": [],
      "source": [
        "trainX = [seq[:max_len] + [padding_idx] * (max_len - len(seq)) for seq in trainX]\n",
        "devX =   [seq[:max_len] + [padding_idx] * (max_len - len(seq)) for seq in devX]\n",
        "testX =  [seq[:max_len] + [padding_idx] * (max_len - len(seq)) for seq in testX]\n",
        "\n",
        "print(f'Indices of first train SMILES = {trainX[0]}')\n",
        "print(f'Last five indices = {trainX[0][-5:]}')"
      ]
    },
    {
      "cell_type": "markdown",
      "metadata": {
        "colab_type": "text",
        "id": "hZLu0JzjQ2LF"
      },
      "source": [
        "## Build Dataset/DataLoader"
      ]
    },
    {
      "cell_type": "code",
      "execution_count": null,
      "metadata": {
        "colab": {},
        "colab_type": "code",
        "id": "2qkAAPU60onl"
      },
      "outputs": [],
      "source": [
        "# Build Dataset\n",
        "train = PropertyPredictionDataset(trainX, trainY)\n",
        "dev = PropertyPredictionDataset(devX, devY)\n",
        "test = PropertyPredictionDataset(testX, testY)\n",
        "\n",
        "# Build DataLoader\n",
        "train_loader = DataLoader(train, batch_size=batch_size, shuffle=True)\n",
        "dev_loader = DataLoader(dev, batch_size=batch_size, shuffle=True)\n",
        "test_loader = DataLoader(test, batch_size=batch_size, shuffle=True)"
      ]
    },
    {
      "cell_type": "markdown",
      "metadata": {
        "colab_type": "text",
        "id": "ZfXkqNFyqBsI"
      },
      "source": [
        "# Multi-Layer Perceptron (MLP)"
      ]
    },
    {
      "cell_type": "markdown",
      "metadata": {
        "colab_type": "text",
        "id": "ZePAuBdzEX_r"
      },
      "source": [
        "Your first task is to build a multi-layer perceptron (MLP) to predict log p using a sum-of-embeddings approach. Replace all `raise NotImplementedError` lines below with your implementation. When you're ready, build the MLP and then train and test it."
      ]
    },
    {
      "cell_type": "markdown",
      "metadata": {
        "colab_type": "text",
        "id": "JNQEIUKGqLM4"
      },
      "source": [
        "## Define MLP"
      ]
    },
    {
      "cell_type": "code",
      "execution_count": null,
      "metadata": {
        "colab": {},
        "colab_type": "code",
        "id": "rOD5dOZEqBAD"
      },
      "outputs": [],
      "source": [
        "class MLP(nn.Module):\n",
        "    def __init__(self, vocab_size, padding_idx, embedding_size, hidden_size, output_size, dropout):\n",
        "        super(MLP, self).__init__()\n",
        "        \n",
        "        # Embedding layer\n",
        "        self.embed = nn.Embedding(vocab_size, embedding_size, padding_idx=padding_idx)\n",
        "        \n",
        "        # Fully connected layers\n",
        "        self.fc1 = nn.Linear(embedding_size, hidden_size)\n",
        "        self.fc2 = nn.Linear(hidden_size, hidden_size)\n",
        "        self.fc3 = nn.Linear(hidden_size, output_size)\n",
        "        \n",
        "        # Dropout (regularization)\n",
        "        self.dropout = nn.Dropout(dropout)\n",
        "\n",
        "    def forward(self, x):  # batch_size x seq_length\n",
        "        # Embed\n",
        "        embedded = self.embed(x)  # batch_size x seq_length x embedding_size\n",
        "        \n",
        "        # Sum embeddings\n",
        "        embedded = embedded.sum(dim=1)  # batch_size x embedding_size\n",
        "        \n",
        "        # MLP\n",
        "        hidden = self.dropout(F.relu(self.fc1(embedded)))  # batch_size x hidden_size\n",
        "        hidden = self.dropout(F.relu(self.fc2(hidden)))  # batch_size x hidden_size\n",
        "        logit = self.fc3(hidden)  # batch_size x output_size\n",
        "        \n",
        "        return logit"
      ]
    },
    {
      "cell_type": "markdown",
      "metadata": {
        "colab_type": "text",
        "id": "IDTl_YiUqSMK"
      },
      "source": [
        "## Build MLP"
      ]
    },
    {
      "cell_type": "code",
      "execution_count": null,
      "metadata": {
        "colab": {},
        "colab_type": "code",
        "id": "osUGOQsvqUzB"
      },
      "outputs": [],
      "source": [
        "model = MLP(vocab_size, padding_idx, embedding_size, hidden_size, output_size, dropout)\n",
        "\n",
        "print(model)\n",
        "print(f'Number of parameters = {param_count(model):,}')\n",
        "\n",
        "# Move to cuda\n",
        "if use_cuda and torch.cuda.is_available():\n",
        "    model = model.cuda()\n",
        "\n",
        "optimizer = optim.Adam(model.parameters(), lr=lr, weight_decay=weight_decay) "
      ]
    },
    {
      "cell_type": "markdown",
      "metadata": {
        "colab_type": "text",
        "id": "zCdqhdnVqV5k"
      },
      "source": [
        "## Train MLP"
      ]
    },
    {
      "cell_type": "code",
      "execution_count": null,
      "metadata": {
        "colab": {},
        "colab_type": "code",
        "id": "oXt9Oxz-qWzn"
      },
      "outputs": [],
      "source": [
        "for epoch in range(1, epochs + 1):\n",
        "    train_epoch(model, train_loader, optimizer, epoch)\n",
        "    eval_epoch(model,  dev_loader, \"Dev\")\n",
        "    print(\"---\")"
      ]
    },
    {
      "cell_type": "markdown",
      "metadata": {
        "colab_type": "text",
        "id": "xE7LcxEPqW69"
      },
      "source": [
        "## Test MLP"
      ]
    },
    {
      "cell_type": "code",
      "execution_count": null,
      "metadata": {
        "colab": {},
        "colab_type": "code",
        "id": "gRTfwoZHqX5k"
      },
      "outputs": [],
      "source": [
        "eval_epoch(model,  test_loader, \"Test\")"
      ]
    },
    {
      "cell_type": "markdown",
      "metadata": {
        "colab_type": "text",
        "id": "ZnsfujvesrvU"
      },
      "source": [
        "# Recurrent Neural Network (RNN)"
      ]
    },
    {
      "cell_type": "markdown",
      "metadata": {
        "colab_type": "text",
        "id": "4UgmANcAMwjd"
      },
      "source": [
        "Your next task is to build a recurrent neural network (RNN) to predict log p using a sequence of SMILES character embeddings. Replace all `raise NotImplementedError` lines below with your implementation. When you're ready, build the RNN and then train and test it."
      ]
    },
    {
      "cell_type": "markdown",
      "metadata": {
        "colab_type": "text",
        "id": "zY_yh_IPA3hK"
      },
      "source": [
        "## Define RNN"
      ]
    },
    {
      "cell_type": "code",
      "execution_count": null,
      "metadata": {
        "colab": {},
        "colab_type": "code",
        "id": "WdLyh493swKI"
      },
      "outputs": [],
      "source": [
        "class RNN(nn.Module):\n",
        "    def __init__(self, vocab_size, padding_idx, embedding_size, hidden_size, output_size, dropout):\n",
        "        super(RNN, self).__init__()\n",
        "        \n",
        "        # Embedding layer\n",
        "        self.embed = nn.Embedding(vocab_size, embedding_size, padding_idx=padding_idx)\n",
        "        \n",
        "        # LSTM (RNN)\n",
        "        self.rnn = nn.LSTM(\n",
        "            input_size=embedding_size,\n",
        "            hidden_size=hidden_size,\n",
        "            batch_first=True\n",
        "        )\n",
        "        \n",
        "        # Fully connected layer\n",
        "        self.output = nn.Linear(hidden_size, output_size)\n",
        "        \n",
        "        # Dropout (regularization)\n",
        "        self.dropout = nn.Dropout(dropout)\n",
        "        \n",
        "    def forward(self, x):  # batch_size x seq_length\n",
        "        # Embed\n",
        "        embedded = self.embed(x)  # batch_size x seq_length x embedding_size\n",
        "      \n",
        "        # Run RNN\n",
        "        o, _ = self.rnn(embedded)  # batch_size x seq_length x hidden_size\n",
        "        \n",
        "        # Dropout\n",
        "        o = self.dropout(o)  # batch_size x seq_length x hidden_size\n",
        "        \n",
        "        # Max pooling across sequence\n",
        "        o, _ = torch.max(o, dim=1)    # batch_size x hidden_size\n",
        "        \n",
        "        # Output layer\n",
        "        logit = self.output(o)  # batch_size x output_size\n",
        "        \n",
        "        return logit"
      ]
    },
    {
      "cell_type": "markdown",
      "metadata": {
        "colab_type": "text",
        "id": "QOxa8rZCA446"
      },
      "source": [
        "## Build RNN"
      ]
    },
    {
      "cell_type": "code",
      "execution_count": null,
      "metadata": {
        "colab": {},
        "colab_type": "code",
        "id": "oTw0eOMW0nR1"
      },
      "outputs": [],
      "source": [
        "model = RNN(vocab_size, padding_idx, embedding_size, hidden_size, output_size, dropout)\n",
        "\n",
        "print(model)\n",
        "print(f'Number of parameters = {param_count(model):,}')\n",
        "\n",
        "# Move to cuda\n",
        "if use_cuda and torch.cuda.is_available():\n",
        "    model = model.cuda()\n",
        "    \n",
        "optimizer = optim.Adam(model.parameters(), lr=lr, weight_decay=weight_decay) "
      ]
    },
    {
      "cell_type": "markdown",
      "metadata": {
        "colab_type": "text",
        "id": "gaDSVZMXA7zO"
      },
      "source": [
        "## Train RNN"
      ]
    },
    {
      "cell_type": "code",
      "execution_count": null,
      "metadata": {
        "colab": {},
        "colab_type": "code",
        "id": "DUR9k6471fFI"
      },
      "outputs": [],
      "source": [
        "for epoch in range(1, epochs + 1):\n",
        "    train_epoch(model, train_loader, optimizer, epoch)\n",
        "    eval_epoch(model,  dev_loader, \"Dev\")\n",
        "    print(\"---\")"
      ]
    },
    {
      "cell_type": "markdown",
      "metadata": {
        "colab_type": "text",
        "id": "vAOPc283A9t2"
      },
      "source": [
        "## Test RNN"
      ]
    },
    {
      "cell_type": "code",
      "execution_count": null,
      "metadata": {
        "colab": {},
        "colab_type": "code",
        "id": "tvS5w0e91fbH"
      },
      "outputs": [],
      "source": [
        "eval_epoch(model,  test_loader, \"Test\")"
      ]
    },
    {
      "cell_type": "markdown",
      "metadata": {
        "colab_type": "text",
        "id": "9sOI-H2e7sUi"
      },
      "source": [
        "# Convolutional Neural Network (CNN)"
      ]
    },
    {
      "cell_type": "markdown",
      "metadata": {
        "colab_type": "text",
        "id": "gyfwzY5nM5T1"
      },
      "source": [
        "Your next task is to build a convolutional neural network (CNN) to predict log p using a sequence of SMILES character embeddings. Replace all `raise NotImplementedError` lines below with your implementation. When you're ready, build the CNN and then train and test it."
      ]
    },
    {
      "cell_type": "markdown",
      "metadata": {
        "colab_type": "text",
        "id": "ubU9eP8bBBFb"
      },
      "source": [
        "## Define CNN"
      ]
    },
    {
      "cell_type": "code",
      "execution_count": null,
      "metadata": {
        "colab": {},
        "colab_type": "code",
        "id": "klUA9Ugi7u5z"
      },
      "outputs": [],
      "source": [
        "class CNN(nn.Module):\n",
        "    def __init__(self, vocab_size, padding_idx, embedding_size, hidden_size, output_size, dropout):\n",
        "        super(CNN, self).__init__()\n",
        "        \n",
        "        # Embedding layer\n",
        "        self.embed = nn.Embedding(vocab_size, embedding_size, padding_idx=padding_idx)\n",
        "        \n",
        "        # Convolutional layers\n",
        "        self.conv1 = nn.Conv1d(in_channels=embedding_size, out_channels=hidden_size, kernel_size=3, padding=0)\n",
        "        self.conv2 = nn.Conv1d(in_channels=embedding_size, out_channels=hidden_size, kernel_size=5, padding=1)\n",
        "        self.conv3 = nn.Conv1d(in_channels=embedding_size, out_channels=hidden_size, kernel_size=7, padding=2)\n",
        "        \n",
        "        # Fully connect layer\n",
        "        self.output = nn.Linear(hidden_size, output_size)\n",
        "        \n",
        "        # Dropout (regularization)\n",
        "        self.dropout = nn.Dropout(dropout)\n",
        "        \n",
        "    def forward(self, x):  # batch_size x seq_length\n",
        "        # Embed\n",
        "        embedded = self.embed(x)  # batch_size x seq_length x embedding_size\n",
        "      \n",
        "        # Permute dimensions\n",
        "        embedded = embedded.permute(0, 2, 1)  # batch_size x embedding_size x seq_length\n",
        "        \n",
        "        # Convolutional layers\n",
        "        hidden_1 = self.dropout(F.relu(self.conv1(embedded)))  # batch_size x hidden_size x new_seq_length\n",
        "        hidden_2 = self.dropout(F.relu(self.conv2(embedded)))  # batch_size x hidden_size x new_seq_length\n",
        "        hidden_3 = self.dropout(F.relu(self.conv3(embedded)))  # batch_size x hidden_size x new_seq_length\n",
        "        \n",
        "        # Sum\n",
        "        hidden = hidden_1 + hidden_2 + hidden_3    # batch_size x hidden_size x new_seq_length\n",
        "        \n",
        "        # Max pooling across sequence\n",
        "        hidden, _ = hidden.max(dim=-1)    # batch_size x hidden_size\n",
        "        \n",
        "        # Output\n",
        "        logit = self.output(hidden)  # batch_size x output_size\n",
        "        \n",
        "        return logit"
      ]
    },
    {
      "cell_type": "markdown",
      "metadata": {
        "colab_type": "text",
        "id": "XuaRaqdtBCrM"
      },
      "source": [
        "## Build CNN"
      ]
    },
    {
      "cell_type": "code",
      "execution_count": null,
      "metadata": {
        "colab": {},
        "colab_type": "code",
        "id": "ZD95lEXmAmGQ"
      },
      "outputs": [],
      "source": [
        "model = CNN(vocab_size, padding_idx, embedding_size, hidden_size, output_size, dropout)\n",
        "\n",
        "print(model)\n",
        "print(f'Number of parameters = {param_count(model):,}')\n",
        "\n",
        "if use_cuda and torch.cuda.is_available():\n",
        "    model = model.cuda()\n",
        "\n",
        "optimizer = optim.Adam(model.parameters(), lr=lr, weight_decay=weight_decay) "
      ]
    },
    {
      "cell_type": "markdown",
      "metadata": {
        "colab_type": "text",
        "id": "sWwArpwcBEeo"
      },
      "source": [
        "## Train CNN"
      ]
    },
    {
      "cell_type": "code",
      "execution_count": null,
      "metadata": {
        "colab": {},
        "colab_type": "code",
        "id": "eNN7Zrr2Ap9D"
      },
      "outputs": [],
      "source": [
        "for epoch in range(1, epochs + 1):\n",
        "    train_epoch(model, train_loader, optimizer, epoch)\n",
        "    eval_epoch(model,  dev_loader, \"Dev\")\n",
        "    print(\"---\")"
      ]
    },
    {
      "cell_type": "markdown",
      "metadata": {
        "colab_type": "text",
        "id": "3wROoo34BGBj"
      },
      "source": [
        "## Test CNN"
      ]
    },
    {
      "cell_type": "code",
      "execution_count": null,
      "metadata": {
        "colab": {},
        "colab_type": "code",
        "id": "KxZmibBj-GDK"
      },
      "outputs": [],
      "source": [
        "eval_epoch(model,  test_loader, \"Test\")"
      ]
    },
    {
      "cell_type": "markdown",
      "metadata": {},
      "source": [
        "# Graph Attention Network (GNN)\n",
        "\n",
        "Your next task is to build a graph neural network to predict log p using a sequence of SMILES character embeddings."
      ]
    },
    {
      "cell_type": "markdown",
      "metadata": {},
      "source": [
        "## Build Dataset for Graphs"
      ]
    },
    {
      "cell_type": "code",
      "execution_count": null,
      "metadata": {},
      "outputs": [],
      "source": [
        "class SmilesDataset(InMemoryDataset):\n",
        "    def __init__(self, X, Y):\n",
        "        super().__init__(\".\")\n",
        "        self.data, self.slices = self.process_data(X,Y)\n",
        "\n",
        "    def process_data(self, X, Y):\n",
        "        data_list = []\n",
        "        for x,y in zip(X,Y):\n",
        "            data = from_smiles(x)\n",
        "            data.y = y = torch.tensor(y, dtype=torch.float).view(1, -1)\n",
        "            data_list.append(data)\n",
        "\n",
        "        return self.collate(data_list)"
      ]
    },
    {
      "cell_type": "code",
      "execution_count": null,
      "metadata": {},
      "outputs": [],
      "source": [
        "train_dataset = SmilesDataset(trainSmiles, trainY)\n",
        "dev_dataset = SmilesDataset(devSmiles, devY)\n",
        "test_dataset = SmilesDataset(testSmiles, testY)\n",
        "\n",
        "train_loader = DataLoader(train_dataset, batch_size=64, shuffle=True)\n",
        "dev_loader = DataLoader(dev_dataset, batch_size=64, shuffle=True)\n",
        "test_loader = DataLoader(test_dataset, batch_size=64, shuffle=False)"
      ]
    },
    {
      "cell_type": "markdown",
      "metadata": {
        "colab_type": "text",
        "id": "ubU9eP8bBBFb"
      },
      "source": [
        "## Define GAT"
      ]
    },
    {
      "cell_type": "code",
      "execution_count": null,
      "metadata": {},
      "outputs": [],
      "source": [
        "class GATv2(nn.Module):\n",
        "    \"\"\"\n",
        "    https://arxiv.org/abs/2105.14491\n",
        "    \"\"\"\n",
        "\n",
        "    def __init__(self, num_heads=3):\n",
        "        super(GATv2, self).__init__()\n",
        "        self.encoder = GATv2Conv(\n",
        "            in_channels=9,\n",
        "            out_channels=1,\n",
        "            heads=num_heads,\n",
        "            edge_dim= 3,\n",
        "        )\n",
        "        self.num_heads = num_heads\n",
        "\n",
        "    def forward(self,x):\n",
        "        output = {}\n",
        "        node_features = x.x.float()\n",
        "        edge_index = x.edge_index\n",
        "        edge_features = x.edge_attr.float()\n",
        "        num_nodes = len(node_features)\n",
        "        # default: (num_nodes, num_heads * out_chan );\n",
        "        # bipartite (num_target_nodes, num_heads * out_chan )\n",
        "        encoded_features = self.encoder.forward(\n",
        "            node_features, edge_index, edge_features\n",
        "        )\n",
        "        encoded_features = encoded_features.view(num_nodes, self.num_heads, -1).mean(1)\n",
        "        return scatter(encoded_features, x.batch, dim =0, reduce='mean')"
      ]
    },
    {
      "cell_type": "markdown",
      "metadata": {
        "colab_type": "text",
        "id": "XuaRaqdtBCrM"
      },
      "source": [
        "## Build GAT"
      ]
    },
    {
      "cell_type": "code",
      "execution_count": null,
      "metadata": {},
      "outputs": [],
      "source": [
        "model = GATv2()\n",
        "\n",
        "print(model)\n",
        "print(f'Number of parameters = {param_count(model):,}')\n",
        "\n",
        "if use_cuda and torch.cuda.is_available():\n",
        "    model = model.cuda()\n",
        "\n",
        "optimizer = optim.Adam(model.parameters(), lr=lr, weight_decay=weight_decay) "
      ]
    },
    {
      "cell_type": "code",
      "execution_count": null,
      "metadata": {},
      "outputs": [],
      "source": [
        "def train_gat_epoch(model, train_loader, optimizer, epoch):\n",
        "    model.train()  # Set the nn.Module to train mode. \n",
        "    total_loss = 0\n",
        "    total_rmse = 0\n",
        "    num_samples = len(train_loader.dataset)\n",
        "    num_batches = 0\n",
        "    for batch_idx, data in enumerate(train_loader):  # 1) get batch\n",
        "        # Adjust dimensions of target and cast to float\n",
        "        target = data.y.float()\n",
        "      \n",
        "        # Move to cuda\n",
        "        if next(model.parameters()).is_cuda:\n",
        "            data, target = data.cuda(), target.cuda()\n",
        "      \n",
        "        # Reset gradient data to 0\n",
        "        optimizer.zero_grad()\n",
        "        \n",
        "        # Get prediction for batch\n",
        "        output = model(data)\n",
        "        \n",
        "        # 2) Compute loss\n",
        "        loss = F.mse_loss(output, target)\n",
        "        \n",
        "        # 3) Do backprop\n",
        "        loss.backward()\n",
        "        \n",
        "        # 4) Update model\n",
        "        optimizer.step()\n",
        "        \n",
        "        # Do book-keeping to track rmse and avg loss\n",
        "        total_loss += loss.detach()  # Don't keep computation graph \n",
        "        total_rmse += rmse(target.cpu().data.numpy(), output.cpu().data.numpy())\n",
        "        num_batches += 1\n",
        "\n",
        "    print(f'Train Epoch: {epoch} '\n",
        "          f'Loss: {total_loss / num_samples:.4f}, '\n",
        "          f'RMSE: {total_rmse / num_batches:.4f}')\n",
        "    \n",
        "def eval_gat_epoch(model, test_loader, name):\n",
        "    model.eval()\n",
        "    test_loss = 0\n",
        "    test_rmse = 0\n",
        "    num_batches = 0\n",
        "    for data in test_loader:\n",
        "        target = data.y.float()\n",
        "      \n",
        "        # Move to cuda\n",
        "        if next(model.parameters()).is_cuda:\n",
        "            data, target = data.cuda(), target.cuda()\n",
        "        \n",
        "        output = model(data)\n",
        "        \n",
        "        test_loss += F.mse_loss(output, target).item()  # sum up batch loss\n",
        "        test_rmse += rmse(target.cpu().data.numpy(), output.cpu().data.numpy())\n",
        "        num_batches += 1\n",
        "\n",
        "    test_loss /= len(test_loader.dataset)\n",
        "    test_rmse /= num_batches\n",
        "    print(f'\\n{name} set: '\n",
        "          f'Average loss: {test_loss:.4f}, '\n",
        "          f'RMSE: {test_rmse:.4f}')"
      ]
    },
    {
      "cell_type": "markdown",
      "metadata": {
        "colab_type": "text",
        "id": "sWwArpwcBEeo"
      },
      "source": [
        "## Train GAT"
      ]
    },
    {
      "cell_type": "code",
      "execution_count": null,
      "metadata": {},
      "outputs": [],
      "source": [
        "for epoch in range(1, epochs + 1):\n",
        "    train_gat_epoch(model, train_loader, optimizer, epoch)\n",
        "    eval_gat_epoch(model,  dev_loader, \"Dev\")\n",
        "    print(\"---\")"
      ]
    },
    {
      "cell_type": "markdown",
      "metadata": {
        "colab_type": "text",
        "id": "3wROoo34BGBj"
      },
      "source": [
        "## Test GAT"
      ]
    },
    {
      "cell_type": "code",
      "execution_count": null,
      "metadata": {},
      "outputs": [],
      "source": [
        "eval_gat_epoch(model,  test_loader, \"Test\")"
      ]
    },
    {
      "cell_type": "markdown",
      "metadata": {
        "colab_type": "text",
        "id": "_BlOKfd0M_Kq"
      },
      "source": [
        "# Improving Performance\n",
        "\n",
        "Now that you've built an MLP, RNN, and CNN, try your hand at maximizing the performance of each model. Experiment with different network architectures (e.g. different numbers of layers) and different model and training settings (see the Model and Training Settings section near the beginning). Which model performs best? How well does it do?"
      ]
    }
  ],
  "metadata": {
    "accelerator": "GPU",
    "colab": {
      "collapsed_sections": [],
      "include_colab_link": true,
      "name": "bonus_property_prediction_tutorial.ipynb",
      "private_outputs": true,
      "provenance": [],
      "toc_visible": true
    },
    "kernelspec": {
      "display_name": "Python 3.9.1 64-bit ('3.9.1')",
      "language": "python",
      "name": "python3"
    },
    "language_info": {
      "name": "python",
      "version": "3.9.1"
    },
    "vscode": {
      "interpreter": {
        "hash": "6e1c477bbb4741057bb356a8a4cfea3fd85ab06b5d35fee50af9f87046f40a78"
      }
    }
  },
  "nbformat": 4,
  "nbformat_minor": 0
}
